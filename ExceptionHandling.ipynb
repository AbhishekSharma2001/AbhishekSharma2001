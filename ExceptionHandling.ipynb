{
  "nbformat": 4,
  "nbformat_minor": 0,
  "metadata": {
    "colab": {
      "provenance": [],
      "collapsed_sections": [],
      "authorship_tag": "ABX9TyPj9i28uKwRF8PVkRBE8KfT",
      "include_colab_link": true
    },
    "kernelspec": {
      "name": "python3",
      "display_name": "Python 3"
    },
    "language_info": {
      "name": "python"
    }
  },
  "cells": [
    {
      "cell_type": "markdown",
      "metadata": {
        "id": "view-in-github",
        "colab_type": "text"
      },
      "source": [
        "<a href=\"https://colab.research.google.com/github/AbhishekSharma2001/AbhishekSharma2001/blob/main/ExceptionHandling.ipynb\" target=\"_parent\"><img src=\"https://colab.research.google.com/assets/colab-badge.svg\" alt=\"Open In Colab\"/></a>"
      ]
    },
    {
      "cell_type": "code",
      "source": [
        "\"\"\"Assignment Topic : Exception Handling\n",
        "Assignment Description : Demonstrate any 3 built-in exceptions and 2 new user-defined exceptions with proper explanation\"\"\""
      ],
      "metadata": {
        "id": "mpUPlDfi7f18"
      },
      "execution_count": null,
      "outputs": []
    },
    {
      "cell_type": "code",
      "source": [
        "#3 built in exceptions are as follows"
      ],
      "metadata": {
        "id": "yWK2ATFH7h8G"
      },
      "execution_count": 1,
      "outputs": []
    },
    {
      "cell_type": "code",
      "source": [
        "#first is zero divide error which checks that whether the denominator is \"0\" or not. \n",
        "#If the number is \"0\" then ZeroDivisionError will be called okthe wise the function will do division only."
      ],
      "metadata": {
        "id": "UcYqn9vz8QY5"
      },
      "execution_count": null,
      "outputs": []
    },
    {
      "cell_type": "code",
      "execution_count": null,
      "metadata": {
        "colab": {
          "base_uri": "https://localhost:8080/"
        },
        "id": "9K6pUkN-ZLZN",
        "outputId": "d90224ed-9787-45d0-93f1-d4c13ed5fa3a"
      },
      "outputs": [
        {
          "output_type": "stream",
          "name": "stdout",
          "text": [
            "5.0\n",
            "division by zero\n",
            "0.6666666666666666\n"
          ]
        }
      ],
      "source": [
        "\n",
        "def divide(x,y):\n",
        "  try:\n",
        "    a=x/y\n",
        "    print(a)\n",
        "  except ZeroDivisionError as e:\n",
        "    print(e)\n",
        "\n",
        "divide(10,2)\n",
        "divide(10,0)\n",
        "divide(4,6)"
      ]
    },
    {
      "cell_type": "code",
      "source": [
        "#so in the above program we see that the program shows division by zero when the denominator passed is zero."
      ],
      "metadata": {
        "id": "3tTBW-VA9BJv"
      },
      "execution_count": null,
      "outputs": []
    },
    {
      "cell_type": "code",
      "source": [
        "#Second Built in exception is LookupError. \n",
        "#The LookupError exception in Python forms the base class for all exceptions that are raised when an index or a key is not found for a sequence or dictionary respectively."
      ],
      "metadata": {
        "id": "I3oxhRqZ9NYI"
      },
      "execution_count": null,
      "outputs": []
    },
    {
      "cell_type": "code",
      "source": [
        "list=[]\n",
        "print(\"Enter Element for the list\")\n",
        "for i in range(0,4):\n",
        "  li=int(input())\n",
        "  list.append(li)\n",
        "try:\n",
        "  a=int(input(\"Enter the index of the element to be fetched: \"))\n",
        "  print(list[a])\n",
        "  \n",
        "  #print()\n",
        "except LookupError as l:\n",
        "  print(l)\n",
        "else:\n",
        "  print(\"Successful\")\n",
        "finally:\n",
        "  print(\"Exception handling ends\")"
      ],
      "metadata": {
        "colab": {
          "base_uri": "https://localhost:8080/"
        },
        "id": "wnEX200UcENM",
        "outputId": "596e537a-ca9b-481c-b7af-1eaf70258c89"
      },
      "execution_count": 8,
      "outputs": [
        {
          "output_type": "stream",
          "name": "stdout",
          "text": [
            "Enter Element for the list\n",
            "1\n",
            "2\n",
            "3\n",
            "4\n",
            "Enter the index of the element to be fetched: 7\n",
            "list index out of range\n",
            "Exception handling ends\n"
          ]
        }
      ]
    },
    {
      "cell_type": "code",
      "source": [
        "#The above Program shows us that the element called is not present in the list then LooupError should be raised."
      ],
      "metadata": {
        "id": "d7gBn011-AAR"
      },
      "execution_count": null,
      "outputs": []
    },
    {
      "cell_type": "code",
      "source": [
        "#Third program is another built in exception ie NameError. NameError is raised when the identifier being accessed is not defined in the local or global scope"
      ],
      "metadata": {
        "id": "_0fiXNhPBs-J"
      },
      "execution_count": null,
      "outputs": []
    },
    {
      "cell_type": "code",
      "source": [
        "def geek_message():\n",
        "    try:\n",
        "        a = input(\"Enter something :\")\n",
        "        return b\n",
        "    except NameError:\n",
        "        return \"NameError occurred. Some variable isn't defined.\"\n",
        " \n",
        "print(geek_message())"
      ],
      "metadata": {
        "colab": {
          "base_uri": "https://localhost:8080/"
        },
        "id": "BgxdUe4HBy4c",
        "outputId": "62e20dab-9336-4e6a-c66b-166e0bec8417"
      },
      "execution_count": 13,
      "outputs": [
        {
          "output_type": "stream",
          "name": "stdout",
          "text": [
            "Enter something :asdfg\n",
            "NameError occurred. Some variable isn't defined.\n"
          ]
        }
      ]
    },
    {
      "cell_type": "code",
      "source": [
        "#User defined exception are the exception that are build by the user as per his needs.\n",
        "#Fourthly is the User defined exception, in which we are going to check for the negative value entered or not."
      ],
      "metadata": {
        "id": "8desimgMCquv"
      },
      "execution_count": null,
      "outputs": []
    },
    {
      "cell_type": "code",
      "source": [
        "class NegativeAge(Exception):\n",
        "  pass\n",
        "try:\n",
        "  age = int(input(\"Enter Age: \"))\n",
        "  print(\"Age is : \",age)\n",
        "  if age<0:\n",
        "    raise NegativeAge\n",
        "  year = 2022-age\n",
        "  print(\"Year of birth is \",year)\n",
        "except NegativeAge:\n",
        "  print(\"Input Correct Age\")\n"
      ],
      "metadata": {
        "colab": {
          "base_uri": "https://localhost:8080/"
        },
        "id": "QKENUmG8eCFN",
        "outputId": "ed4308cd-1820-4416-be1b-d4b00ea2ebf9"
      },
      "execution_count": 16,
      "outputs": [
        {
          "output_type": "stream",
          "name": "stdout",
          "text": [
            "Enter Age: 20\n",
            "Age is :  20\n",
            "Year of birth is  2002\n"
          ]
        }
      ]
    },
    {
      "cell_type": "code",
      "source": [
        "#Fifth Exception is the user defined error which asks for the 2 inputs ie for numerator or denominator then the dividion operation will be performed, \n",
        "#but if the denominator is 0 the error will be raised."
      ],
      "metadata": {
        "id": "JnuIzQnpDl2_"
      },
      "execution_count": null,
      "outputs": []
    },
    {
      "cell_type": "code",
      "source": [
        "class Error(Exception):\n",
        "  pass\n",
        "class DivideByZero(Error):\n",
        "  pass\n",
        "\n",
        "i=int(input(\"enter element 1: \"))\n",
        "j=int(input(\"enter element 2: \"))\n",
        "try:\n",
        "  if j==0:\n",
        "    raise DivideByZero\n",
        "  else:\n",
        "    x=i/j\n",
        "except DivideByZero:\n",
        "  print(\"Division by Zero is not possible\")\n"
      ],
      "metadata": {
        "colab": {
          "base_uri": "https://localhost:8080/"
        },
        "id": "hGs6m644eyIM",
        "outputId": "ba03a63c-1d19-4307-b6be-a8bcbe3b6bbf"
      },
      "execution_count": null,
      "outputs": [
        {
          "output_type": "stream",
          "name": "stdout",
          "text": [
            "enter element 1: 1\n",
            "enter element 2: 0\n",
            "Division by Zero is not possible\n"
          ]
        }
      ]
    },
    {
      "cell_type": "code",
      "source": [
        "#pylenin_info = {'name': 'Lenin Mishra',\n",
        "#                'age': 28,\n",
        "#                'language': 'Python'}\n",
        "#user_input = input('What do you want to learn about Pylenin: ')\n",
        "#\n",
        "#try:\n",
        "#    print(f'{user_input} is {pylenin_info[user_input]}')\n",
        "#except LookupError as e:\n",
        "#   print(f'{e}, {e.__class__}')"
      ],
      "metadata": {
        "colab": {
          "base_uri": "https://localhost:8080/"
        },
        "id": "0K8g1uxD9y-8",
        "outputId": "458bc0c5-b3fd-4307-f8a3-d383d1480fac"
      },
      "execution_count": 18,
      "outputs": [
        {
          "output_type": "stream",
          "name": "stdout",
          "text": [
            "What do you want to learn about Pylenin==> name\n",
            "name is Lenin Mishra\n"
          ]
        }
      ]
    }
  ]
}