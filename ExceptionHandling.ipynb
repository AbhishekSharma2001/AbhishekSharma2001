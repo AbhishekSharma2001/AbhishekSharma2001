{
  "nbformat": 4,
  "nbformat_minor": 0,
  "metadata": {
    "colab": {
      "provenance": [],
      "collapsed_sections": [],
      "authorship_tag": "ABX9TyOJN4k1FbkVNBgm12oFY7iR",
      "include_colab_link": true
    },
    "kernelspec": {
      "name": "python3",
      "display_name": "Python 3"
    },
    "language_info": {
      "name": "python"
    }
  },
  "cells": [
    {
      "cell_type": "markdown",
      "metadata": {
        "id": "view-in-github",
        "colab_type": "text"
      },
      "source": [
        "<a href=\"https://colab.research.google.com/github/AbhishekSharma2001/AbhishekSharma2001/blob/main/ExceptionHandling.ipynb\" target=\"_parent\"><img src=\"https://colab.research.google.com/assets/colab-badge.svg\" alt=\"Open In Colab\"/></a>"
      ]
    },
    {
      "cell_type": "code",
      "execution_count": 3,
      "metadata": {
        "colab": {
          "base_uri": "https://localhost:8080/"
        },
        "id": "9K6pUkN-ZLZN",
        "outputId": "d90224ed-9787-45d0-93f1-d4c13ed5fa3a"
      },
      "outputs": [
        {
          "output_type": "stream",
          "name": "stdout",
          "text": [
            "5.0\n",
            "division by zero\n",
            "0.6666666666666666\n"
          ]
        }
      ],
      "source": [
        "def divide(x,y):\n",
        "  try:\n",
        "    a=x/y\n",
        "    print(a)\n",
        "  except ZeroDivisionError as e:\n",
        "    print(e)\n",
        "\n",
        "divide(10,2)\n",
        "divide(10,0)\n",
        "divide(4,6)"
      ]
    },
    {
      "cell_type": "code",
      "source": [
        "list=[]\n",
        "print(\"Enter Element for the list\")\n",
        "for i in range(0,4):\n",
        "  li=int(input())\n",
        "  list.append(li)\n",
        "try:\n",
        "  print(list[7])\n",
        "except LookupError as l:\n",
        "  print(l)\n",
        "else:\n",
        "  print(\"Successful\")\n",
        "finally:\n",
        "  print(\"Exception handling ends\"2\n",
        "        )"
      ],
      "metadata": {
        "colab": {
          "base_uri": "https://localhost:8080/"
        },
        "id": "wnEX200UcENM",
        "outputId": "e5d695a1-33c7-4643-a849-f143cdc3c546"
      },
      "execution_count": 4,
      "outputs": [
        {
          "output_type": "stream",
          "name": "stdout",
          "text": [
            "Enter Element for the list\n",
            "1\n",
            "3\n",
            "4\n",
            "7\n",
            "list index out of range\n",
            "Exception handling ends\n"
          ]
        }
      ]
    },
    {
      "cell_type": "code",
      "source": [
        "try:\n",
        "  f=open(\"testfile\",\"w\")\n",
        "  f.write(\"This is my test file for exception handling\")\n",
        "except IOError:\n",
        "  print(\"Error cant find the file or read data\")\n",
        "else:\n",
        "  print(\"written control in the file successfully\")\n",
        "  "
      ],
      "metadata": {
        "colab": {
          "base_uri": "https://localhost:8080/"
        },
        "id": "9iQgM1w6c723",
        "outputId": "0cf6253c-daa0-4a4b-f881-b19eecf53d5e"
      },
      "execution_count": 5,
      "outputs": [
        {
          "output_type": "stream",
          "name": "stdout",
          "text": [
            "written control in the file successfully\n"
          ]
        }
      ]
    },
    {
      "cell_type": "code",
      "source": [
        "class NegativeAge(Exception):\n",
        "  pass\n",
        "try:\n",
        "  age = -10\n",
        "  print(\"Age is : \",age)\n",
        "  if age<0:\n",
        "    raise NegativeAge\n",
        "  year = 2022-age\n",
        "  print(\"Year of birth is \",year)\n",
        "except NegativeAge:\n",
        "  print(\"Input Correct Age\")\n"
      ],
      "metadata": {
        "colab": {
          "base_uri": "https://localhost:8080/"
        },
        "id": "QKENUmG8eCFN",
        "outputId": "e688acd9-e2d5-484a-e963-ae34098f89ec"
      },
      "execution_count": 6,
      "outputs": [
        {
          "output_type": "stream",
          "name": "stdout",
          "text": [
            "Age is :  -10\n",
            "Input Correct Age\n"
          ]
        }
      ]
    },
    {
      "cell_type": "code",
      "source": [
        "class Error(Exception):\n",
        "  pass\n",
        "class DivideByZero(Error):\n",
        "  pass\n",
        "\n",
        "i=int(input(\"enter element 1: \"))\n",
        "j=int(input(\"enter element 2: \"))\n",
        "try:\n",
        "  if j==0:\n",
        "    raise DivideByZero\n",
        "  else:\n",
        "    x=i/j\n",
        "except DivideByZero:\n",
        "  print(\"Division by Zero is not possible\")\n"
      ],
      "metadata": {
        "colab": {
          "base_uri": "https://localhost:8080/"
        },
        "id": "hGs6m644eyIM",
        "outputId": "ba03a63c-1d19-4307-b6be-a8bcbe3b6bbf"
      },
      "execution_count": 9,
      "outputs": [
        {
          "output_type": "stream",
          "name": "stdout",
          "text": [
            "enter element 1: 1\n",
            "enter element 2: 0\n",
            "Division by Zero is not possible\n"
          ]
        }
      ]
    }
  ]
}