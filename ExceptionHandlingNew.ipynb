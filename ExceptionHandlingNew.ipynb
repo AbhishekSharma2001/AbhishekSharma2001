{
  "nbformat": 4,
  "nbformat_minor": 0,
  "metadata": {
    "colab": {
      "provenance": [],
      "collapsed_sections": [],
      "authorship_tag": "ABX9TyMDAPm+E1Rhd9Zf/sr2Pnt7",
      "include_colab_link": true
    },
    "kernelspec": {
      "name": "python3",
      "display_name": "Python 3"
    },
    "language_info": {
      "name": "python"
    }
  },
  "cells": [
    {
      "cell_type": "markdown",
      "metadata": {
        "id": "view-in-github",
        "colab_type": "text"
      },
      "source": [
        "<a href=\"https://colab.research.google.com/github/AbhishekSharma2001/AbhishekSharma2001/blob/main/ExceptionHandlingNew.ipynb\" target=\"_parent\"><img src=\"https://colab.research.google.com/assets/colab-badge.svg\" alt=\"Open In Colab\"/></a>"
      ]
    },
    {
      "cell_type": "code",
      "execution_count": null,
      "metadata": {
        "id": "MTfpoDt47Tkd"
      },
      "outputs": [],
      "source": [
        "\"\"\"Assignment Topic : Exception Handling\n",
        "Assignment Description : Demonstrate any 3 built-in exceptions and 2 new user\n",
        "-defined exceptions with proper explanation\"\"\""
      ]
    },
    {
      "cell_type": "code",
      "source": [
        "#3 built in exceptions are as follows"
      ],
      "metadata": {
        "id": "StfwU8Ku7oTn"
      },
      "execution_count": null,
      "outputs": []
    },
    {
      "cell_type": "code",
      "source": [
        "#first is zero divide error which checks that whether the denominator \n",
        "#is \"0\" or not. \n",
        "#If the number is \"0\" then ZeroDivisionError will be called okthe wise \n",
        "#the function will do division only."
      ],
      "metadata": {
        "id": "5j2cBO2X75fv"
      },
      "execution_count": null,
      "outputs": []
    },
    {
      "cell_type": "code",
      "source": [
        "def divide(x,y):\n",
        "  try:\n",
        "    a=x/y\n",
        "    print(a)\n",
        "  except ZeroDivisionError as e:\n",
        "    print(e)\n",
        "\n",
        "divide(10,2)\n",
        "divide(10,0)\n",
        "divide(4,6)"
      ],
      "metadata": {
        "colab": {
          "base_uri": "https://localhost:8080/"
        },
        "id": "wmZWpB7x8Cq1",
        "outputId": "001ce0de-72e7-4628-cc44-9f641a2914cf"
      },
      "execution_count": null,
      "outputs": [
        {
          "output_type": "stream",
          "name": "stdout",
          "text": [
            "5.0\n",
            "division by zero\n",
            "0.6666666666666666\n"
          ]
        }
      ]
    },
    {
      "cell_type": "code",
      "source": [
        "# another way of doing the above program"
      ],
      "metadata": {
        "id": "w3c14iOy-OzZ"
      },
      "execution_count": null,
      "outputs": []
    },
    {
      "cell_type": "code",
      "source": [
        "try:\n",
        "    print('try block')\n",
        "    x=int(input('Enter a number: '))\n",
        "    y=int(input('Enter another number: '))\n",
        "    z=x/y\n",
        "except ZeroDivisionError:\n",
        "    print(\"except ZeroDivisionError block\")\n",
        "    print(\"Division by 0 not accepted\")\n",
        "else:\n",
        "    print(\"else block\")\n",
        "    print(\"Division = \", z)\n",
        "finally:\n",
        "    print(\"finally block\")\n",
        "    x=0\n",
        "    y=0\n",
        "    \n",
        "print (\"Out of try, except, else and finally blocks.\" )"
      ],
      "metadata": {
        "colab": {
          "base_uri": "https://localhost:8080/"
        },
        "id": "2AryTmwO8ELB",
        "outputId": "90238235-c5ca-4a8c-b446-b6554375acc9"
      },
      "execution_count": null,
      "outputs": [
        {
          "output_type": "stream",
          "name": "stdout",
          "text": [
            "try block\n",
            "Enter a number: 1\n",
            "Enter another number: 0\n",
            "except ZeroDivisionError block\n",
            "Division by 0 not accepted\n",
            "finally block\n",
            "Out of try, except, else and finally blocks.\n"
          ]
        }
      ]
    },
    {
      "cell_type": "code",
      "source": [
        "#so in the above program we see that the program shows division by zero\n",
        "#when the denominator passed is zero.#"
      ],
      "metadata": {
        "id": "b1efxt-z-3Kz"
      },
      "execution_count": null,
      "outputs": []
    },
    {
      "cell_type": "code",
      "source": [
        "#Third program is another built in exception ie NameError. NameError is raised\n",
        "# when the identifier being accessed is not defined in the local or global scope"
      ],
      "metadata": {
        "id": "AjFSgxMgKkE3"
      },
      "execution_count": null,
      "outputs": []
    },
    {
      "cell_type": "code",
      "source": [
        "def geek_message():\n",
        "    try:\n",
        "        a = input(\"Enter something :\")\n",
        "        return b\n",
        "    except NameError:\n",
        "        return \"NameError occurred. Some variable isn't defined.\"\n",
        " \n",
        "print(geek_message())"
      ],
      "metadata": {
        "id": "R5yQo7v98SwE"
      },
      "execution_count": null,
      "outputs": []
    },
    {
      "cell_type": "code",
      "source": [
        "#Second Built in exception is LookupError. \n",
        "#The LookupError exception in Python forms the base class for all exceptions \n",
        "#that are raised when an index or a key is not found for a sequence or\n",
        "# dictionary respectively."
      ],
      "metadata": {
        "id": "WHXOrN8q8k5I"
      },
      "execution_count": null,
      "outputs": []
    },
    {
      "cell_type": "code",
      "source": [
        "list=[]\n",
        "print(\"Enter Element for the list\")\n",
        "for i in range(0,4):\n",
        "  li=int(input())\n",
        "  list.append(li)\n",
        "try:\n",
        "  a=int(input(\"Enter the index of the element to be fetched: \"))\n",
        "  print(list[a])\n",
        "  \n",
        "  #print()\n",
        "except LookupError as l:\n",
        "  print(l)\n",
        "else:\n",
        "  print(\"Successful\")\n",
        "finally:\n",
        "  print(\"Exception handling ends\")"
      ],
      "metadata": {
        "colab": {
          "base_uri": "https://localhost:8080/"
        },
        "id": "cu33Xy3N8oJr",
        "outputId": "1bd0e5cc-98ed-4251-cc46-2227fd001a42"
      },
      "execution_count": null,
      "outputs": [
        {
          "output_type": "stream",
          "name": "stdout",
          "text": [
            "Enter Element for the list\n",
            "1\n",
            "3\n",
            "5\n",
            "2\n",
            "Enter the index of the element to be fetched: 5\n",
            "list index out of range\n",
            "Exception handling ends\n"
          ]
        }
      ]
    },
    {
      "cell_type": "code",
      "source": [
        "#The above Program shows us that the element called is not present \n",
        "#in the list then LooupError should be raised."
      ],
      "metadata": {
        "id": "y1-gwwBx8x9q"
      },
      "execution_count": null,
      "outputs": []
    },
    {
      "cell_type": "code",
      "source": [],
      "metadata": {
        "id": "6qObDGKW83-x"
      },
      "execution_count": null,
      "outputs": []
    },
    {
      "cell_type": "code",
      "source": [
        "#User defined exception are the exception that are build by the user\n",
        "# as per his needs.\n",
        "#Fourthly is the User defined exception, in which we are going to \n",
        "#check for the negative value entered or not."
      ],
      "metadata": {
        "id": "SdR6iO-V9Can"
      },
      "execution_count": null,
      "outputs": []
    },
    {
      "cell_type": "code",
      "source": [
        "class NegativeAge(Exception):\n",
        "  pass\n",
        "try:\n",
        "  age = int(input(\"Enter Age: \"))\n",
        "  print(\"Age is : \",age)\n",
        "  if age<0:\n",
        "    raise NegativeAge\n",
        "  year = 2022-age\n",
        "  print(\"Year of birth is \",year)\n",
        "except NegativeAge:\n",
        "  print(\"Input Correct Age\")\n"
      ],
      "metadata": {
        "colab": {
          "base_uri": "https://localhost:8080/"
        },
        "id": "tiEJ_73l9DfR",
        "outputId": "89761b10-c485-4bca-c59e-1c962119c891"
      },
      "execution_count": null,
      "outputs": [
        {
          "output_type": "stream",
          "name": "stdout",
          "text": [
            "Enter Age: -10\n",
            "Age is :  -10\n",
            "Input Correct Age\n"
          ]
        }
      ]
    },
    {
      "cell_type": "code",
      "source": [
        "#Fifth Exception is the user defined error which asks for the 2 \n",
        "#inputs ie for numerator or denominator then the dividion operation \n",
        "#will be performed, \n",
        "#but if the denominator is 0 the error will be raised."
      ],
      "metadata": {
        "id": "u9zdNoY49HyU"
      },
      "execution_count": null,
      "outputs": []
    },
    {
      "cell_type": "code",
      "source": [
        "class DeByZero(Exception):\n",
        "  pass\n",
        "\n",
        "\n",
        "i=int(input(\"enter element 1: \"))\n",
        "j=int(input(\"enter element 2: \"))\n",
        "try:\n",
        "  if j==0:\n",
        "    raise DeByZero\n",
        "  else:\n",
        "    x=i/j\n",
        "    print(x)\n",
        "except DeByZero:\n",
        "  print(\"Division by Zero is not possible\")\n"
      ],
      "metadata": {
        "colab": {
          "base_uri": "https://localhost:8080/"
        },
        "id": "FAfcZFfn9NVM",
        "outputId": "b9a9c6b1-333e-44c2-d5fa-8eb94898478e"
      },
      "execution_count": null,
      "outputs": [
        {
          "output_type": "stream",
          "name": "stdout",
          "text": [
            "enter element 1: 1\n",
            "enter element 2: 0\n",
            "Division by Zero is not possible\n"
          ]
        }
      ]
    },
    {
      "cell_type": "code",
      "source": [
        "class gen(Exception):\n",
        "  pass\n",
        "print(\"Enter M for male\\nEnter F for Female\\nEnter O for Others\")\n",
        "try:\n",
        "  a=input(\"Enter Gender Code : \")\n",
        "  if a=='M' or a=='F' or a=='O':\n",
        "    print(\"Your Gender is \",a)\n",
        "  else:\n",
        "    \n",
        "    raise gen\n",
        "except gen:\n",
        "  print(\"Please enter only M/F/O\")\n",
        "finally:\n",
        "  print(\"Exception ended\")"
      ],
      "metadata": {
        "colab": {
          "base_uri": "https://localhost:8080/"
        },
        "id": "p7WFDTKN9Sw4",
        "outputId": "7b4a4230-8e43-4e6b-996c-a3997504eaa4"
      },
      "execution_count": null,
      "outputs": [
        {
          "output_type": "stream",
          "name": "stdout",
          "text": [
            "Enter M for male\n",
            "Enter F for Female\n",
            "Enter O for Others\n",
            "Enter Gender Code : M\n",
            "Your Gender is  M\n",
            "Exception ended\n"
          ]
        }
      ]
    }
  ]
}